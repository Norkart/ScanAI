{
 "cells": [
  {
   "cell_type": "code",
   "execution_count": 21,
   "metadata": {},
   "outputs": [],
   "source": [
    "import os\n",
    "import leafmap\n",
    "from samgeo import SamGeo, tms_to_geotiff\n",
    "from pyproj import Transformer\n",
    "import matplotlib\n",
    "matplotlib.use('nbagg')  # Use the interactive backend for widgets\n"
   ]
  },
  {
   "cell_type": "code",
   "execution_count": 23,
   "metadata": {},
   "outputs": [
    {
     "name": "stdout",
     "output_type": "stream",
     "text": [
      "Transformed bbox (EPSG:4326): [-122.26589999657467, 37.868199999716396, -122.25209999633164, 37.874099996996726]\n"
     ]
    },
    {
     "data": {
      "application/vnd.jupyter.widget-view+json": {
       "model_id": "0bcb26839e64450dbb2c022960c0bde0",
       "version_major": 2,
       "version_minor": 0
      },
      "text/plain": [
       "Map(center=[63.0966015, 7.8194035], controls=(ZoomControl(options=['position', 'zoom_in_text', 'zoom_in_title'…"
      ]
     },
     "execution_count": 23,
     "metadata": {},
     "output_type": "execute_result"
    }
   ],
   "source": [
    "import leafmap\n",
    "from pyproj import Transformer\n",
    "\n",
    "# Define the bounding box in EPSG:3857 (Web Mercator)\n",
    "bbox_3857 = [-13610577.729, 4560823.588, -13609041.520, 4561655.600]\n",
    "\n",
    "# Transform bbox to EPSG:4326 (latitude/longitude)\n",
    "transformer = Transformer.from_crs(\"EPSG:3857\", \"EPSG:4326\", always_xy=True)\n",
    "min_lon, min_lat = transformer.transform(bbox_3857[0], bbox_3857[1])\n",
    "max_lon, max_lat = transformer.transform(bbox_3857[2], bbox_3857[3])\n",
    "bbox_4326 = [min_lon, min_lat, max_lon, max_lat]\n",
    "\n",
    "print(\"Transformed bbox (EPSG:4326):\", bbox_4326)\n",
    "\n",
    "# Initialize the map centered around the transformed bounding box\n",
    "m = leafmap.Map(center=[(min_lat + max_lat) / 2, (min_lon + max_lon) / 2], zoom=17, height=\"800px\")\n",
    "\n",
    "# Restrict the map to the bounding box of the image\n",
    "m.fit_bounds([[min_lat, min_lon], [max_lat, max_lon]])\n",
    "\n",
    "# Add the image as a raster layer\n",
    "image = \"ScanAI/SamGeo/Rensvik.tif\"  # Path to your image\n",
    "m.add_raster(image, layer_name=\"Rensvik Image\")\n",
    "\n",
    "# Optionally remove extra layers (e.g., basemap) to only display the image\n",
    "m.layers = [layer for layer in m.layers if layer.name == \"Rensvik Image\"]\n",
    "\n",
    "# Display the map\n",
    "m\n"
   ]
  },
  {
   "cell_type": "code",
   "execution_count": 24,
   "metadata": {},
   "outputs": [
    {
     "name": "stdout",
     "output_type": "stream",
     "text": [
      "File exists: True\n",
      "Absolute path: /home/siverteh/ScanAI/SamGeo/Rensvik.tif\n"
     ]
    }
   ],
   "source": [
    "# Use your custom image\n",
    "image = \"ScanAI/SamGeo/Rensvik.tif\"\n",
    "print(\"File exists:\", os.path.exists(image))\n",
    "print(\"Absolute path:\", os.path.abspath(image))\n",
    "\n",
    "# Add your raster image to the map\n",
    "m.add_raster(image, layer_name=\"Rensvik Image\")\n",
    "#m\n"
   ]
  },
  {
   "cell_type": "code",
   "execution_count": 25,
   "metadata": {},
   "outputs": [],
   "source": [
    "sam = SamGeo(\n",
    "    model_type=\"vit_h\",\n",
    "    automatic=False,\n",
    "    sam_kwargs=None,\n",
    ")"
   ]
  },
  {
   "cell_type": "code",
   "execution_count": 26,
   "metadata": {},
   "outputs": [],
   "source": [
    "sam.set_image(image)"
   ]
  },
  {
   "cell_type": "code",
   "execution_count": 30,
   "metadata": {},
   "outputs": [
    {
     "data": {
      "application/vnd.jupyter.widget-view+json": {
       "model_id": "6c126c7660f14c8f95719b8562e2e6e9",
       "version_major": 2,
       "version_minor": 0
      },
      "text/plain": [
       "Map(center=[63.0966015, 7.8194035], controls=(ZoomControl(options=['position', 'zoom_in_text', 'zoom_in_title'…"
      ]
     },
     "execution_count": 30,
     "metadata": {},
     "output_type": "execute_result"
    },
    {
     "name": "stderr",
     "output_type": "stream",
     "text": [
      "No such comm: bb2c686616ff4062b40ea0642a49b74d\n"
     ]
    }
   ],
   "source": [
    "m = sam.show_map()\n",
    "m"
   ]
  },
  {
   "cell_type": "code",
   "execution_count": 6,
   "metadata": {},
   "outputs": [
    {
     "name": "stdout",
     "output_type": "stream",
     "text": [
      "Transformed bbox (EPSG:4326): [-122.26589999657467, 37.868199999716396, -122.25209999633164, 37.874099996996726]\n",
      "Downloaded image 1/6\n",
      "Downloaded image 2/6\n",
      "Downloaded image 3/6\n",
      "Downloaded image 4/6\n",
      "Downloaded image 5/6\n",
      "Downloaded image 6/6\n",
      "Saving GeoTIFF. Please wait...\n",
      "Image saved to ScanAI/SamGeo/Rensvik_visualization.tif\n",
      "GeoTIFF created: /home/siverteh/ScanAI/SamGeo/Rensvik_visualization.tif\n"
     ]
    },
    {
     "ename": "HTTPError",
     "evalue": "500 Server Error: INTERNAL SERVER ERROR for url: http://127.0.0.1:43281/api/metadata?&filename=%2Fhome%2Fsiverteh%2FScanAI%2FSamGeo%2FRensvik_visualization.tif",
     "output_type": "error",
     "traceback": [
      "\u001b[0;31m---------------------------------------------------------------------------\u001b[0m",
      "\u001b[0;31mHTTPError\u001b[0m                                 Traceback (most recent call last)",
      "Cell \u001b[0;32mIn[6], line 27\u001b[0m\n\u001b[1;32m     25\u001b[0m \u001b[38;5;66;03m# Serve the GeoTIFF as a tile layer using TileClient\u001b[39;00m\n\u001b[1;32m     26\u001b[0m tile_client \u001b[38;5;241m=\u001b[39m TileClient(image_path)\n\u001b[0;32m---> 27\u001b[0m tile_layer \u001b[38;5;241m=\u001b[39m \u001b[43mget_leaflet_tile_layer\u001b[49m\u001b[43m(\u001b[49m\u001b[43mtile_client\u001b[49m\u001b[43m)\u001b[49m\n\u001b[1;32m     29\u001b[0m \u001b[38;5;66;03m# Create a map centered on the image\u001b[39;00m\n\u001b[1;32m     30\u001b[0m center_lat \u001b[38;5;241m=\u001b[39m (min_lat \u001b[38;5;241m+\u001b[39m max_lat) \u001b[38;5;241m/\u001b[39m \u001b[38;5;241m2\u001b[39m\n",
      "File \u001b[0;32m~/miniconda/lib/python3.12/site-packages/localtileserver/widgets.py:100\u001b[0m, in \u001b[0;36mget_leaflet_tile_layer\u001b[0;34m(source, port, debug, indexes, colormap, vmin, vmax, nodata, attribution, **kwargs)\u001b[0m\n\u001b[1;32m     95\u001b[0m \u001b[38;5;28;01mclass\u001b[39;00m \u001b[38;5;21;01mBoundTileLayer\u001b[39;00m(TileLayer, LocalTileServerLayerMixin):\n\u001b[1;32m     96\u001b[0m     \u001b[38;5;66;03m# https://github.com/jupyter-widgets/ipyleaflet/issues/888\u001b[39;00m\n\u001b[1;32m     97\u001b[0m     \u001b[38;5;66;03m# https://github.com/ipython/traitlets/issues/626#issuecomment-699957829\u001b[39;00m\n\u001b[1;32m     98\u001b[0m     bounds \u001b[38;5;241m=\u001b[39m Union((Tuple(),), default_value\u001b[38;5;241m=\u001b[39m\u001b[38;5;28;01mNone\u001b[39;00m, allow_none\u001b[38;5;241m=\u001b[39m\u001b[38;5;28;01mTrue\u001b[39;00m)\u001b[38;5;241m.\u001b[39mtag(sync\u001b[38;5;241m=\u001b[39m\u001b[38;5;28;01mTrue\u001b[39;00m, o\u001b[38;5;241m=\u001b[39m\u001b[38;5;28;01mTrue\u001b[39;00m)\n\u001b[0;32m--> 100\u001b[0m source, created \u001b[38;5;241m=\u001b[39m \u001b[43mget_or_create_tile_client\u001b[49m\u001b[43m(\u001b[49m\n\u001b[1;32m    101\u001b[0m \u001b[43m    \u001b[49m\u001b[43msource\u001b[49m\u001b[43m,\u001b[49m\n\u001b[1;32m    102\u001b[0m \u001b[43m    \u001b[49m\u001b[43mport\u001b[49m\u001b[38;5;241;43m=\u001b[39;49m\u001b[43mport\u001b[49m\u001b[43m,\u001b[49m\n\u001b[1;32m    103\u001b[0m \u001b[43m    \u001b[49m\u001b[43mdebug\u001b[49m\u001b[38;5;241;43m=\u001b[39;49m\u001b[43mdebug\u001b[49m\u001b[43m,\u001b[49m\n\u001b[1;32m    104\u001b[0m \u001b[43m\u001b[49m\u001b[43m)\u001b[49m\n\u001b[1;32m    105\u001b[0m url \u001b[38;5;241m=\u001b[39m source\u001b[38;5;241m.\u001b[39mget_tile_url(\n\u001b[1;32m    106\u001b[0m     indexes\u001b[38;5;241m=\u001b[39mindexes,\n\u001b[1;32m    107\u001b[0m     colormap\u001b[38;5;241m=\u001b[39mcolormap,\n\u001b[0;32m   (...)\u001b[0m\n\u001b[1;32m    111\u001b[0m     client\u001b[38;5;241m=\u001b[39m\u001b[38;5;28;01mTrue\u001b[39;00m,\n\u001b[1;32m    112\u001b[0m )\n\u001b[1;32m    113\u001b[0m \u001b[38;5;28;01mif\u001b[39;00m attribution \u001b[38;5;129;01mis\u001b[39;00m \u001b[38;5;28;01mNone\u001b[39;00m:\n",
      "File \u001b[0;32m~/miniconda/lib/python3.12/site-packages/localtileserver/client.py:608\u001b[0m, in \u001b[0;36mget_or_create_tile_client\u001b[0;34m(source, port, debug)\u001b[0m\n\u001b[1;32m    606\u001b[0m         source\u001b[38;5;241m.\u001b[39mshutdown()\n\u001b[1;32m    607\u001b[0m         \u001b[38;5;28;01mdel\u001b[39;00m source\n\u001b[0;32m--> 608\u001b[0m     \u001b[38;5;28;01mraise\u001b[39;00m e\n\u001b[1;32m    609\u001b[0m \u001b[38;5;28;01mreturn\u001b[39;00m source, _internally_created\n",
      "File \u001b[0;32m~/miniconda/lib/python3.12/site-packages/localtileserver/client.py:602\u001b[0m, in \u001b[0;36mget_or_create_tile_client\u001b[0;34m(source, port, debug)\u001b[0m\n\u001b[1;32m    600\u001b[0m \u001b[38;5;28;01mtry\u001b[39;00m:\n\u001b[1;32m    601\u001b[0m     r \u001b[38;5;241m=\u001b[39m requests\u001b[38;5;241m.\u001b[39mget(source\u001b[38;5;241m.\u001b[39mcreate_url(\u001b[38;5;124m\"\u001b[39m\u001b[38;5;124mapi/metadata\u001b[39m\u001b[38;5;124m\"\u001b[39m))\n\u001b[0;32m--> 602\u001b[0m     \u001b[43mr\u001b[49m\u001b[38;5;241;43m.\u001b[39;49m\u001b[43mraise_for_status\u001b[49m\u001b[43m(\u001b[49m\u001b[43m)\u001b[49m\n\u001b[1;32m    603\u001b[0m \u001b[38;5;28;01mexcept\u001b[39;00m requests\u001b[38;5;241m.\u001b[39mHTTPError \u001b[38;5;28;01mas\u001b[39;00m e:\n\u001b[1;32m    604\u001b[0m     \u001b[38;5;66;03m# Make sure to destroy the server and its thread if internally created.\u001b[39;00m\n\u001b[1;32m    605\u001b[0m     \u001b[38;5;28;01mif\u001b[39;00m _internally_created:\n",
      "File \u001b[0;32m~/miniconda/lib/python3.12/site-packages/requests/models.py:1024\u001b[0m, in \u001b[0;36mResponse.raise_for_status\u001b[0;34m(self)\u001b[0m\n\u001b[1;32m   1019\u001b[0m     http_error_msg \u001b[38;5;241m=\u001b[39m (\n\u001b[1;32m   1020\u001b[0m         \u001b[38;5;124mf\u001b[39m\u001b[38;5;124m\"\u001b[39m\u001b[38;5;132;01m{\u001b[39;00m\u001b[38;5;28mself\u001b[39m\u001b[38;5;241m.\u001b[39mstatus_code\u001b[38;5;132;01m}\u001b[39;00m\u001b[38;5;124m Server Error: \u001b[39m\u001b[38;5;132;01m{\u001b[39;00mreason\u001b[38;5;132;01m}\u001b[39;00m\u001b[38;5;124m for url: \u001b[39m\u001b[38;5;132;01m{\u001b[39;00m\u001b[38;5;28mself\u001b[39m\u001b[38;5;241m.\u001b[39murl\u001b[38;5;132;01m}\u001b[39;00m\u001b[38;5;124m\"\u001b[39m\n\u001b[1;32m   1021\u001b[0m     )\n\u001b[1;32m   1023\u001b[0m \u001b[38;5;28;01mif\u001b[39;00m http_error_msg:\n\u001b[0;32m-> 1024\u001b[0m     \u001b[38;5;28;01mraise\u001b[39;00m HTTPError(http_error_msg, response\u001b[38;5;241m=\u001b[39m\u001b[38;5;28mself\u001b[39m)\n",
      "\u001b[0;31mHTTPError\u001b[0m: 500 Server Error: INTERNAL SERVER ERROR for url: http://127.0.0.1:43281/api/metadata?&filename=%2Fhome%2Fsiverteh%2FScanAI%2FSamGeo%2FRensvik_visualization.tif"
     ]
    }
   ],
   "source": [
    "import os\n",
    "from samgeo import tms_to_geotiff\n",
    "from localtileserver import get_leaflet_tile_layer, TileClient\n",
    "from ipyleaflet import Map\n",
    "from ipywidgets import Layout\n",
    "from pyproj import Transformer\n",
    "\n",
    "# Define the bounding box in EPSG:3857 (Web Mercator)\n",
    "bbox_3857 = [-13610577.729, 4560823.588, -13609041.520, 4561655.600]\n",
    "transformer = Transformer.from_crs(\"EPSG:3857\", \"EPSG:4326\", always_xy=True)\n",
    "min_lon, min_lat = transformer.transform(bbox_3857[0], bbox_3857[1])\n",
    "max_lon, max_lat = transformer.transform(bbox_3857[2], bbox_3857[3])\n",
    "bbox_4326 = [min_lon, min_lat, max_lon, max_lat]\n",
    "print(\"Transformed bbox (EPSG:4326):\", bbox_4326)\n",
    "\n",
    "# Use tms_to_geotiff to generate a GeoTIFF\n",
    "image_path = \"ScanAI/SamGeo/Rensvik_visualization.tif\"\n",
    "tms_to_geotiff(output=image_path, bbox=bbox_4326, zoom=16, source=\"Satellite\", overwrite=True)\n",
    "\n",
    "# Check if the GeoTIFF file was created\n",
    "if not os.path.exists(image_path):\n",
    "    raise FileNotFoundError(f\"Generated TIFF not found: {image_path}\")\n",
    "print(\"GeoTIFF created:\", os.path.abspath(image_path))\n",
    "\n",
    "# Serve the GeoTIFF as a tile layer using TileClient\n",
    "tile_client = TileClient(image_path)\n",
    "tile_layer = get_leaflet_tile_layer(tile_client)\n",
    "\n",
    "# Create a map centered on the image\n",
    "center_lat = (min_lat + max_lat) / 2\n",
    "center_lon = (min_lon + max_lon) / 2\n",
    "\n",
    "m = Map(\n",
    "    center=(center_lat, center_lon),\n",
    "    zoom=16,\n",
    "    layout=Layout(width=\"800px\", height=\"600px\"),\n",
    "    scroll_wheel_zoom=True,\n",
    ")\n",
    "m.add_layer(tile_layer)\n",
    "\n",
    "# Display the map\n",
    "m\n"
   ]
  },
  {
   "cell_type": "code",
   "execution_count": null,
   "metadata": {},
   "outputs": [
    {
     "ename": "NameError",
     "evalue": "name 'gdalinfo' is not defined",
     "output_type": "error",
     "traceback": [
      "\u001b[0;31m---------------------------------------------------------------------------\u001b[0m",
      "\u001b[0;31mNameError\u001b[0m                                 Traceback (most recent call last)",
      "Cell \u001b[0;32mIn[7], line 1\u001b[0m\n\u001b[0;32m----> 1\u001b[0m \u001b[43mgdalinfo\u001b[49m \u001b[38;5;241m/\u001b[39mhome\u001b[38;5;241m/\u001b[39msiverteh\u001b[38;5;241m/\u001b[39mScanAI\u001b[38;5;241m/\u001b[39mSamGeo\u001b[38;5;241m/\u001b[39mRensvik_visualization\u001b[38;5;241m.\u001b[39mtif\n",
      "\u001b[0;31mNameError\u001b[0m: name 'gdalinfo' is not defined"
     ]
    }
   ],
   "source": []
  },
  {
   "cell_type": "code",
   "execution_count": null,
   "metadata": {},
   "outputs": [],
   "source": []
  }
 ],
 "metadata": {
  "kernelspec": {
   "display_name": "Python (conda_env)",
   "language": "python",
   "name": "conda_env"
  },
  "language_info": {
   "codemirror_mode": {
    "name": "ipython",
    "version": 3
   },
   "file_extension": ".py",
   "mimetype": "text/x-python",
   "name": "python",
   "nbconvert_exporter": "python",
   "pygments_lexer": "ipython3",
   "version": "3.12.7"
  }
 },
 "nbformat": 4,
 "nbformat_minor": 2
}
